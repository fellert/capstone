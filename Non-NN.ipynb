{
 "cells": [
  {
   "cell_type": "code",
   "execution_count": null,
   "metadata": {},
   "outputs": [],
   "source": [
    "import pandas as pd\n",
    "import numpy as np\n",
    "import seaborn as sns\n",
    "import matplotlib.pyplot as plt\n",
    "import re"
   ]
  },
  {
   "cell_type": "code",
   "execution_count": null,
   "metadata": {},
   "outputs": [],
   "source": [
    "from sklearn.feature_extraction.text import TfidfVectorizer, CountVectorizer\n",
    "from sklearn.feature_selection import SelectKBest, f_classif\n",
    "from sklearn.linear_model import LinearRegression, Lasso, Ridge\n",
    "from sklearn.ensemble import AdaBoostClassifier, VotingClassifier, RandomForestClassifier\n",
    "from sklearn.svm import LinearSVC\n",
    "from sklearn.model_selection import train_test_split, cross_val_score\n",
    "from sklearn.preprocessing import LabelBinarizer, LabelBinarizer\n",
    "from sklearn.metrics import confusion_matrix, classification_report, mean_squared_error, accuracy_score\n",
    "from sklearn.metrics import roc_auc_score\n",
    "from sklearn.model_selection import GridSearchCV\n",
    "from xgboost import XGBClassifier\n",
    "\n",
    "import nltk\n",
    "import gensim\n",
    "from nltk.corpus import stopwords\n",
    "from nltk.tokenize import word_tokenize\n",
    "from gensim.parsing.preprocessing import remove_stopwords, strip_non_alphanum, strip_short, strip_numeric\n",
    "from gensim.models import Word2Vec, KeyedVectors\n",
    "from imblearn.over_sampling import ADASYN\n",
    "from collections import Counter\n",
    "from sklearn.decomposition import SparsePCA"
   ]
  },
  {
   "cell_type": "code",
   "execution_count": null,
   "metadata": {},
   "outputs": [],
   "source": [
    "import warnings\n",
    "warnings.simplefilter(action='ignore', category=FutureWarning)"
   ]
  },
  {
   "cell_type": "code",
   "execution_count": null,
   "metadata": {},
   "outputs": [],
   "source": [
    "def get_auc(y_true,y_pred):\n",
    "\n",
    "    binary = LabelBinarizer().fit(y_true)\n",
    "    y_true = binary.transform(y_true)\n",
    "    y_pred = binary.transform([abs(round(value)) for value in y_pred])\n",
    "    return roc_auc_score(y_true, y_pred, average='weighted')"
   ]
  },
  {
   "cell_type": "code",
   "execution_count": null,
   "metadata": {},
   "outputs": [],
   "source": [
    "df = pd.read_csv('reduced_df.csv')\n",
    "article_text = df['article_text'].apply(lambda x: re.sub(r'http\\S+', '', str(x)))"
   ]
  },
  {
   "cell_type": "code",
   "execution_count": null,
   "metadata": {},
   "outputs": [],
   "source": [
    "text = article_text.apply(lambda x: strip_short(remove_stopwords(strip_numeric(\n",
    "                            strip_non_alphanum(x.lower()))), minsize=3))\n",
    "mid_5th = text.apply(lambda x: x[round(0.4*len(x)):round(0.6*len(x))])"
   ]
  },
  {
   "cell_type": "code",
   "execution_count": null,
   "metadata": {},
   "outputs": [],
   "source": [
    "tfidf = TfidfVectorizer(max_features=2500)\n",
    "vectors = tfidf.fit_transform(text)\n",
    "encoder = preprocessing.LabelEncoder()\n",
    "labels = encoder.fit_transform(df.norm_score)\n",
    "vocab = dict(zip(tfidf.vocabulary_.values(),tfidf.vocabulary_.keys()))"
   ]
  },
  {
   "cell_type": "code",
   "execution_count": null,
   "metadata": {},
   "outputs": [],
   "source": [
    "X_train, X_test, y_train, y_test = train_test_split(vectors, labels, test_size=0.1, random_state=42)\n",
    "X_train_rs, y_train_rs = ADASYN(n_jobs=4, random_state=42).fit_resample(X_train, y_train)"
   ]
  },
  {
   "cell_type": "code",
   "execution_count": null,
   "metadata": {},
   "outputs": [],
   "source": [
    "X_train_rs.shape"
   ]
  },
  {
   "cell_type": "code",
   "execution_count": null,
   "metadata": {},
   "outputs": [],
   "source": [
    "sns.countplot(y_train_rs,palette=\"husl\").set_title(\"Label Distribution\")\n",
    "print(sorted(Counter(y_train_rs).items()))"
   ]
  },
  {
   "cell_type": "code",
   "execution_count": null,
   "metadata": {},
   "outputs": [],
   "source": [
    "sns.countplot(y_test,palette=\"husl\")"
   ]
  },
  {
   "cell_type": "markdown",
   "metadata": {},
   "source": [
    "## Linear Regression"
   ]
  },
  {
   "cell_type": "code",
   "execution_count": null,
   "metadata": {},
   "outputs": [],
   "source": [
    "reg = LinearRegression()\n",
    "reg.fit(X_train_rs, y_train_rs)\n",
    "reg_pred = reg.predict(X_test)\n",
    "\n",
    "print(\"MSE: {}\".format(mean_squared_error(y_test, reg_pred)))\n",
    "sns.distplot(reg_pred).set_title(\"Prediction Distribtution for Regression\")\n",
    "\n",
    "print(\"Overall Accuracy: {0:.2f}\".format(accuracy_score(y_test,[abs(round(value)) for value in reg_pred])))\n",
    "print(\"AUC: {0:.2f}\".format(get_auc(y_test, reg_pred)))\n",
    "print(confusion_matrix(y_test,[round(value) for value in reg_pred]))"
   ]
  },
  {
   "cell_type": "markdown",
   "metadata": {},
   "source": [
    "## Lasso Regression"
   ]
  },
  {
   "cell_type": "code",
   "execution_count": null,
   "metadata": {},
   "outputs": [],
   "source": [
    "lasso = Lasso(random_state=42)\n",
    "alpha = np.logspace(-3, 0.0, 10)\n",
    "param_grid = {'alpha': alpha, 'max_iter': [5000]}\n",
    "\n",
    "lasso_search = GridSearchCV(Lasso(), param_grid, n_jobs=-1, cv=3)\n",
    "lasso_search.fit(X_train_rs, y_train_rs)\n",
    "\n",
    "f, ax = plt.subplots()\n",
    "ax.set(xscale='log')\n",
    "sns.lineplot(np.logspace(-3, 0.0, 10), lasso_search.cv_results_['mean_test_score'])\n",
    "print(lasso_search.best_params_)"
   ]
  },
  {
   "cell_type": "code",
   "execution_count": null,
   "metadata": {},
   "outputs": [],
   "source": [
    "lasso = Lasso(lasso_search.best_params_['alpha'], max_iter=5000)\n",
    "lasso.fit(X_train_rs, y_train_rs)\n",
    "lasso_pred = lasso.predict(X_test)\n",
    "\n",
    "print(\"MSE: {}\".format(mean_squared_error(y_test, lasso_pred)))\n",
    "print(\"Non-zero coefficients: {}\".format(np.sum(abs(lasso.coef_) != 0)))\n",
    "sns.distplot(lasso_pred).set_title(\"Prediction Distribtution for Lasso\")\n",
    "\n",
    "print(\"Overall Accuracy: {0:.2f}\".format(accuracy_score(y_test,[abs(round(value)) for value in lasso_pred])))\n",
    "print(\"AUC: {0:.2f}\".format(get_auc(y_test,pred)))\n",
    "print(confusion_matrix(y_test,[round(value) for value in lasso_pred]))"
   ]
  },
  {
   "cell_type": "code",
   "execution_count": null,
   "metadata": {},
   "outputs": [],
   "source": [
    "coef = np.abs(lasso.coef_)\n",
    "sorted_coef = np.argsort(coef)\n",
    "\n",
    "for idx in reversed(sorted_coef[-15:]):\n",
    "    print(vocab[idx])"
   ]
  },
  {
   "cell_type": "markdown",
   "metadata": {},
   "source": [
    "## Ridge Regression"
   ]
  },
  {
   "cell_type": "code",
   "execution_count": null,
   "metadata": {},
   "outputs": [],
   "source": [
    "alpha = np.logspace(-3.0, 1.0, 10)\n",
    "param_grid = {'alpha': alpha}\n",
    "\n",
    "ridge_search = GridSearchCV(Ridge(), param_grid, n_jobs=-1, cv=5)\n",
    "ridge_search.fit(X_train_rs, y_train_rs)\n",
    "\n",
    "f, ax = plt.subplots()\n",
    "ax.set(xscale='log')\n",
    "sns.lineplot(np.logspace(-5, 0.0, 10), ridge_search.cv_results_['mean_test_score'])\n",
    "print(ridge_search.best_params_)"
   ]
  },
  {
   "cell_type": "code",
   "execution_count": null,
   "metadata": {},
   "outputs": [],
   "source": [
    "ridge = Ridge(alpha=ridge_search.best_params_['alpha'], max_iter=10000)\n",
    "ridge.fit(X_train_rs, y_train_rs)\n",
    "ridge_pred = ridge.predict(X_test)\n",
    "\n",
    "print(\"MSE: {}\".format(mean_squared_error(y_test, ridge_pred)))\n",
    "sns.distplot(ridge_pred).set_title(\"Prediction Distribtution for Ridge\")\n",
    "\n",
    "print(\"Overall Accuracy: {0:.2f}\".format(accuracy_score(y_test,[abs(round(value)) for value in ridge_pred])))\n",
    "print(\"AUC: {0:.2f}\".format(get_auc(y_test, ridge_pred)))\n",
    "print(confusion_matrix(y_test,[round(value) for value in ridge_pred]))"
   ]
  },
  {
   "cell_type": "markdown",
   "metadata": {},
   "source": [
    "## With Non-zero features "
   ]
  },
  {
   "cell_type": "code",
   "execution_count": null,
   "metadata": {},
   "outputs": [],
   "source": [
    "idx = np.nonzero(lasso.coef_)[0]\n",
    "X_train_sparse = pd.SparseDataFrame(X_train_rs, default_fill_value=0)\n",
    "X_test_sparse = pd.SparseDataFrame(X_test, default_fill_value=0)\n",
    "reduced = X_train_sparse[idx]\n",
    "reduced_test = X_test_sparse[idx]"
   ]
  },
  {
   "cell_type": "code",
   "execution_count": null,
   "metadata": {},
   "outputs": [],
   "source": [
    "reg = LinearRegression(normalize=True)\n",
    "reg.fit(reduced, y_train_rs)\n",
    "reg_pred = reg.predict(reduced_test)\n",
    "\n",
    "print(\"MSE: {}\".format(mean_squared_error(y_test, reg_pred)))\n",
    "sns.distplot(reg_pred).set_title(\"Prediction Distribtution for Regression\")\n",
    "\n",
    "print(\"Overall Accuracy: {0:.2f}\".format(accuracy_score(y_test,[abs(round(value)) for value in reg_pred])))\n",
    "print(\"AUC: {0:.2f}\".format(get_auc(y_test, reg_pred)))\n",
    "print(confusion_matrix(y_test,[round(value) for value in reg_pred]))"
   ]
  },
  {
   "cell_type": "markdown",
   "metadata": {},
   "source": [
    "## XGBoost"
   ]
  },
  {
   "cell_type": "code",
   "execution_count": null,
   "metadata": {},
   "outputs": [],
   "source": [
    "boosted = XGBClassifier(nthread=12,reg_lambda=0.75,max_depth=5)\n",
    "boosted.fit(X_train_rs, y_train_rs)\n",
    "boosted_pred = boosted.predict(X_test)\n",
    "\n",
    "print(\"Cross val score: {}\".format(cross_val_score(boosted, X_train_rs, y_train_rs, cv=3).mean()))\n",
    "print(\"Test score: {0:.2f}\".format(boosted.score(X_test, y_test)))\n",
    "print(confusion_matrix(y_test, boosted_pred))\n",
    "\n",
    "print(\"AUC: {0:.2f}\".format(get_auc(y_test, boosted_pred)))\n",
    "print(classification_report(y_test, boosted_pred))"
   ]
  },
  {
   "cell_type": "code",
   "execution_count": null,
   "metadata": {},
   "outputs": [],
   "source": [
    "features = np.argsort(boosted.feature_importances_)\n",
    "\n",
    "for idx in reversed(features[-15:]):\n",
    "    print(vocab[idx])"
   ]
  },
  {
   "cell_type": "markdown",
   "metadata": {},
   "source": [
    "### Using Lasso Parameters"
   ]
  },
  {
   "cell_type": "code",
   "execution_count": null,
   "metadata": {},
   "outputs": [],
   "source": [
    "boosted = XGBClassifier(nthread=12,reg_lambda=0.75,max_depth=5)\n",
    "boosted.fit(reduced, y_train_rs)\n",
    "boosted_pred = boosted.predict(reduced_test)\n",
    "\n",
    "print(\"Cross val score: {}\".format(cross_val_score(boosted, reduced, y_train_rs, cv=3).mean()))\n",
    "print(\"Test score: {0:.2f}\".format(boosted.score(reduced_test, y_test)))\n",
    "print(confusion_matrix(y_test, boosted_pred))\n",
    "\n",
    "print(\"AUC: {0:.2f}\".format(get_auc(y_test, boosted_pred)))\n",
    "print(classification_report(y_test, boosted_pred))"
   ]
  },
  {
   "cell_type": "markdown",
   "metadata": {},
   "source": [
    "### Using SelectKBest"
   ]
  },
  {
   "cell_type": "code",
   "execution_count": null,
   "metadata": {},
   "outputs": [],
   "source": [
    "k_best = SelectKBest(score_func=f_classif, k = 200).fit(X_train_rs,y_train_rs)\n",
    "\n",
    "X_best_train = k_best.transform(X_train_rs)\n",
    "X_best_test = k_best.transform(X_test)"
   ]
  },
  {
   "cell_type": "code",
   "execution_count": null,
   "metadata": {},
   "outputs": [],
   "source": [
    "k_best_idx = k_best.get_support(indices=True)\n",
    "\n",
    "for idx in k_best_idx[:15]:\n",
    "    print(vocab[idx])"
   ]
  },
  {
   "cell_type": "code",
   "execution_count": null,
   "metadata": {},
   "outputs": [],
   "source": [
    "boosted_k = XGBClassifier(nthread=12,reg_lambda=0.75,max_depth=5)\n",
    "boosted_k.fit(X_best_train, y_train_rs)\n",
    "boosted_pred_k = boosted_k.predict(X_best_test)\n",
    "\n",
    "print(\"Cross val score: {}\".format(cross_val_score(boosted_k, X_best_train, y_train_rs, cv=3).mean()))\n",
    "print(\"Test score: {0:.2f}\".format(boosted_k.score(X_best_test, y_test)))\n",
    "print(confusion_matrix(y_test, boosted_pred_k))\n",
    "\n",
    "print(\"AUC: {0:.2f}\".format(get_auc(y_test, boosted_pred_k)))\n",
    "print(classification_report(y_test, boosted_pred_k))\n"
   ]
  },
  {
   "cell_type": "markdown",
   "metadata": {},
   "source": [
    "## LinearSVC"
   ]
  },
  {
   "cell_type": "code",
   "execution_count": null,
   "metadata": {},
   "outputs": [],
   "source": [
    "svc = LinearSVC(max_iter=2000, dual=False, random_state=1, C=0.25)\n",
    "svc.fit(X_train_rs, y_train_rs)\n",
    "svc_pred = svc.predict(X_test)\n",
    "\n",
    "print(\"Cross val score: {}\".format(cross_val_score(svc, X_train_rs, y_train_rs, cv=3).mean()))\n",
    "print(\"Test score: {0:.2f}\".format(svc.score(X_test, y_test)))\n",
    "print(confusion_matrix(y_test, svc_pred))\n",
    "\n",
    "print(\"AUC: {0:.2f}\".format(get_auc(y_test, svc_pred)))\n",
    "print(classification_report(y_test, svc_pred))"
   ]
  },
  {
   "cell_type": "markdown",
   "metadata": {},
   "source": [
    "### Using Lasso Parameters"
   ]
  },
  {
   "cell_type": "code",
   "execution_count": null,
   "metadata": {},
   "outputs": [],
   "source": [
    "svc = LinearSVC(max_iter=2000, dual=False, random_state=1, C=0.25)\n",
    "svc.fit(reduced, y_train_rs)\n",
    "svc_pred = svc.predict(reduced_test)\n",
    "\n",
    "print(\"Cross val score: {}\".format(cross_val_score(svc, reduced, y_train_rs, cv=3).mean()))\n",
    "print(\"Test score: {0:.2f}\".format(svc.score(reduced_test, y_test)))\n",
    "print(confusion_matrix(y_test, svc_pred))\n",
    "\n",
    "print(\"AUC: {0:.2f}\".format(get_auc(y_test, svc_pred)))\n",
    "print(classification_report(y_test, svc_pred))"
   ]
  },
  {
   "cell_type": "markdown",
   "metadata": {},
   "source": [
    "### Using SelectKBest"
   ]
  },
  {
   "cell_type": "code",
   "execution_count": null,
   "metadata": {},
   "outputs": [],
   "source": [
    "svc_k = LinearSVC(max_iter=2000, dual=False, random_state=1, C=0.25)\n",
    "svc_k.fit(X_best_train, y_train_rs)\n",
    "svc_pred_k = svc_k.predict(X_best_test)\n",
    "\n",
    "print(\"Cross val score: {}\".format(cross_val_score(svc_k, X_best_train, y_train_rs, cv=3).mean()))\n",
    "print(\"Test score: {0:.2f}\".format(svc_k.score(X_best_test, y_test)))\n",
    "print(confusion_matrix(y_test, boosted_pred_k))\n",
    "\n",
    "print(\"AUC: {0:.2f}\".format(get_auc(y_test, svc_pred_k)))\n",
    "print(classification_report(y_test, svc_pred_k))"
   ]
  },
  {
   "cell_type": "markdown",
   "metadata": {},
   "source": [
    "## AdaBoost"
   ]
  },
  {
   "cell_type": "code",
   "execution_count": null,
   "metadata": {},
   "outputs": [],
   "source": [
    "# ada = AdaBoostClassifier(n_estimators=30)\n",
    "# ada.fit(X_train_rs, y_train_rs)\n",
    "# ada_pred = ada.predict(X_test)\n",
    "\n",
    "# print(\"Cross val score: {}\".format(cross_val_score(ada, X_train_rs, y_train_rs, cv=3).mean()))\n",
    "# print(\"Test score: {}\".format(ada.score(X_test, y_test)))\n",
    "# print(confusion_matrix(y_test, ada_pred))\n",
    "\n",
    "# print(\"AUC: {}\".format(get_auc(y_test, ada_pred)))\n",
    "# print(classification_report(y_test, ada_pred))"
   ]
  },
  {
   "cell_type": "markdown",
   "metadata": {},
   "source": [
    "## Text + Images"
   ]
  },
  {
   "cell_type": "code",
   "execution_count": null,
   "metadata": {},
   "outputs": [],
   "source": [
    "df_images = pd.read_csv('text_and_images.csv')\n",
    "print(len(df_images))\n",
    "\n",
    "article_text = df_images['article_text'].apply(lambda x: re.sub(r'http\\S+', '', str(x)))\n",
    "text = article_text.apply(lambda x: strip_short(remove_stopwords(strip_numeric(\n",
    "                            strip_non_alphanum(x.lower()))),minsize=3))"
   ]
  },
  {
   "cell_type": "code",
   "execution_count": null,
   "metadata": {},
   "outputs": [],
   "source": [
    "tfidf = TfidfVectorizer(max_features=2500)\n",
    "vectors = tfidf.fit_transform(text)\n",
    "encoder = preprocessing.LabelEncoder()\n",
    "labels = encoder.fit_transform(df_images.norm_score)\n",
    "vocab = dict(zip(tfidf.vocabulary_.values(),tfidf.vocabulary_.keys()))\n",
    "\n",
    "images_data = df_images.drop(['article_title', 'article_text', 'url', 'norm_score'], axis=1)"
   ]
  },
  {
   "cell_type": "code",
   "execution_count": null,
   "metadata": {},
   "outputs": [],
   "source": [
    "sparse = pd.SparseDataFrame(vectors, columns=tfidf.get_feature_names(), default_fill_value=0)\n",
    "combined = images_data.join(sparse)\n",
    "text_idx = sparse.shape[1]\n",
    "\n",
    "X_train, X_test, y_train, y_test = train_test_split(combined, labels, test_size=0.1, random_state=42)\n",
    "X_train_rs, y_train_rs = ADASYN(n_jobs=4, random_state=42).fit_resample(X_train, y_train)\n",
    "\n",
    "text_features_train = X_train_rs[:,-text_idx:]\n",
    "image_features_train = X_train_rs[:,:-text_idx]\n",
    "\n",
    "text_features_test = X_test[list(sparse.columns)]\n",
    "image_features_test = X_test.drop(list(sparse.columns), axis=1)\n",
    "\n",
    "print(y_train_rs.sum(axis=0))\n",
    "print(y_test.sum(axis=0))"
   ]
  },
  {
   "cell_type": "code",
   "execution_count": null,
   "metadata": {},
   "outputs": [],
   "source": [
    "boosted_text = XGBClassifier(nthread=12,reg_lambda=0.75,max_depth=5)\n",
    "svc_text = LinearSVC(max_iter=2000, dual=False, random_state=1, C=0.25)"
   ]
  },
  {
   "cell_type": "code",
   "execution_count": null,
   "metadata": {},
   "outputs": [],
   "source": [
    "boosted_text.fit(text_features_train, y_train_rs)\n",
    "pred_text = boosted_text.predict(text_features_test.values)\n",
    "\n",
    "print(\"Cross val score: {}\".format(cross_val_score(boosted_text, text_features_train, y_train_rs,cv=5).mean()))\n",
    "print(\"Test score: {0:.2f}\".format(boosted_text.score(text_features_test.values, y_test)))\n",
    "print(\"AUC: {0:.2f}\".format(get_auc(y_test,pred_text)))\n",
    "print(confusion_matrix(y_test, pred_text))"
   ]
  },
  {
   "cell_type": "code",
   "execution_count": null,
   "metadata": {},
   "outputs": [],
   "source": [
    "svc_text.fit(text_features_train, y_train_rs)\n",
    "pred_text = svc_text.predict(text_features_test.values)\n",
    "\n",
    "print(\"Cross val score: {}\".format(cross_val_score(svc_text, text_features_train, y_train_rs,cv=5).mean()))\n",
    "print(\"Test score: {0:.2f}\".format(svc_text.score(text_features_test.values, y_test)))\n",
    "print(\"AUC: {0:.2f}\".format(get_auc(y_test,pred_text)))\n",
    "print(confusion_matrix(y_test, pred_text))"
   ]
  },
  {
   "cell_type": "markdown",
   "metadata": {},
   "source": [
    "## Combined"
   ]
  },
  {
   "cell_type": "code",
   "execution_count": null,
   "metadata": {},
   "outputs": [],
   "source": [
    "boosted_combined = XGBClassifier(nthread=12,reg_lambda=0.75,max_depth=5)\n",
    "svc_combined = LinearSVC(max_iter=2000, dual=False, random_state=1, C=0.25)"
   ]
  },
  {
   "cell_type": "code",
   "execution_count": null,
   "metadata": {},
   "outputs": [],
   "source": [
    "boosted_combined.fit(X_train_rs,y_train_rs)\n",
    "pred_combined = boosted_combined.predict(X_test.values)\n",
    "\n",
    "print(\"Cross val score: {}\".format(cross_val_score(boosted_combined, X_train_rs, y_train_rs,cv=5).mean()))\n",
    "print(\"Test score: {0:.2f}\".format(boosted_combined.score(X_test.values, y_test)))\n",
    "print(\"AUC: {0:.2f}\".format(get_auc(y_test,pred_combined)))\n",
    "print(confusion_matrix(y_test, pred_combined))"
   ]
  },
  {
   "cell_type": "code",
   "execution_count": null,
   "metadata": {},
   "outputs": [],
   "source": [
    "svc_combined.fit(X_train_rs,y_train_rs)\n",
    "pred_combined = svc_combined.predict(X_test.values)\n",
    "\n",
    "print(\"Cross val score: {}\".format(cross_val_score(svc_combined, X_train_rs, y_train_rs,cv=5).mean()))\n",
    "print(\"Test score: {0:.2f}\".format(svc_combined.score(X_test.values, y_test)))\n",
    "print(\"AUC: {0:.2f}\".format(get_auc(y_test,pred_combined)))\n",
    "print(confusion_matrix(y_test, pred_combined))"
   ]
  },
  {
   "cell_type": "code",
   "execution_count": null,
   "metadata": {},
   "outputs": [],
   "source": []
  }
 ],
 "metadata": {
  "kernelspec": {
   "display_name": "Python 3",
   "language": "python",
   "name": "python3"
  },
  "language_info": {
   "codemirror_mode": {
    "name": "ipython",
    "version": 3
   },
   "file_extension": ".py",
   "mimetype": "text/x-python",
   "name": "python",
   "nbconvert_exporter": "python",
   "pygments_lexer": "ipython3",
   "version": "3.7.1"
  }
 },
 "nbformat": 4,
 "nbformat_minor": 2
}
